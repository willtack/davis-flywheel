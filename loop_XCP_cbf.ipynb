{
 "cells": [
  {
   "cell_type": "code",
   "execution_count": 1,
   "metadata": {},
   "outputs": [],
   "source": [
    "import flywheel\n",
    "import datetime\n",
    "\n",
    "# Create client\n",
    "fw = flywheel.Client()\n",
    "\n",
    "# define containers & files\n",
    "gear = fw.lookup('gears/xcpengine-fw')\n",
    "project = fw.lookup('davis/presurgicalEpilepsy')\n",
    "design_file = project.get_file('cbf_WT.dsn')\n",
    "\n",
    "# set date for label\n",
    "x = datetime.datetime.now()\n",
    "date_str = '%s/%s/%s %s:%s' % (x.month, x.day, x.year, x.hour, x.minute)\n",
    "\n",
    "# set inputs and config for gear\n",
    "#inputs = {'antsct': , 'designfile': design_file, 'img':, 'm0':}\n",
    "#config = {'analysis_type': cbf}\n",
    "\n"
   ]
  },
  {
   "cell_type": "code",
   "execution_count": 21,
   "metadata": {},
   "outputs": [
    {
     "name": "stdout",
     "output_type": "stream",
     "text": [
      "SB_fmriprep 8-13-2019 15:21\n",
      "xcpengine-fw 08/22/2019 10:12:16 STRUC MINIMAL WT\n",
      "xcpengine-fw 08/22/2019 14:40:49 STRUC MINIMAL WT\n",
      "xcpengine-fw 08/26/2019 11:41:37 CBF WT\n",
      "xcpengine-fw 08/26/2019 13:18:18 CBF WT\n",
      "xcpengine-fw 08/26/2019 14:34:59 CBF WT\n",
      "xcpengine-fw 08/26/2019 15:02:00 CBF WT\n"
     ]
    }
   ],
   "source": [
    "# run gear\n",
    "session = fw.lookup('davis/presurgicalEpilepsy/P61/ses-01')\n",
    "for a in session.analyses:\n",
    "   print(a.label)"
   ]
  },
  {
   "cell_type": "code",
   "execution_count": null,
   "metadata": {},
   "outputs": [],
   "source": [
    "# run gear\n",
    "for ses in project.sessions():\n",
    "    \n",
    "    # get ASL and M0 files\n",
    "    for a in ses.acquisitions():\n",
    "    if 'ASL' in a.label:\n",
    "        asl_container=fw.get(a.id)\n",
    "        for f in asl_container.files:\n",
    "            if '.nii.gz' in f.name:\n",
    "                asl_img=f\n",
    "    elif 'M0' in a.label:\n",
    "        m0_container=fw.get(a.id)\n",
    "        for f in m0_container.files:\n",
    "            if '.nii.gz' in f.name:\n",
    "                m0_img=f\n",
    "    else:\n",
    "        pass\n",
    "    \n",
    "    # get \n",
    "    \n",
    "    #analysis_id = gear.run(analysis_label='fmriprep_test', config=config, inputs=inputs, destination=ses)"
   ]
  }
 ],
 "metadata": {
  "kernelspec": {
   "display_name": "Python 3",
   "language": "python",
   "name": "python3"
  },
  "language_info": {
   "codemirror_mode": {
    "name": "ipython",
    "version": 3
   },
   "file_extension": ".py",
   "mimetype": "text/x-python",
   "name": "python",
   "nbconvert_exporter": "python",
   "pygments_lexer": "ipython3",
   "version": "3.7.3"
  }
 },
 "nbformat": 4,
 "nbformat_minor": 2
}
