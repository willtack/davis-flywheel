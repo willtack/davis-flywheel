{
 "cells": [
  {
   "cell_type": "code",
   "execution_count": 1,
   "metadata": {},
   "outputs": [],
   "source": [
    "import flywheel\n",
    "import datetime\n",
    "\n",
    "# Create client\n",
    "fw = flywheel.Client()\n",
    "\n",
    "# define containers & files\n",
    "gear = fw.lookup('gears/xcpengine-fw')\n",
    "project = fw.lookup('davis/presurgicalEpilepsy')\n",
    "design_file = project.get_file('cbf_WT.dsn')"
   ]
  },
  {
   "cell_type": "code",
   "execution_count": 2,
   "metadata": {},
   "outputs": [
    {
     "data": {
      "text/plain": [
       "['C1',\n",
       " 'C2',\n",
       " 'C3',\n",
       " 'C4',\n",
       " 'C5',\n",
       " 'C6',\n",
       " 'C7',\n",
       " 'C8',\n",
       " 'C9',\n",
       " 'C10',\n",
       " 'C11',\n",
       " 'C12',\n",
       " 'C13',\n",
       " 'C14',\n",
       " 'C15']"
      ]
     },
     "execution_count": 2,
     "metadata": {},
     "output_type": "execute_result"
    }
   ],
   "source": [
    "# create subject list\n",
    "fin = 'controls.txt'\n",
    "sid_list = [line.rstrip('\\n').split()[0] for line in open(fin)]\n",
    "sid_list"
   ]
  },
  {
   "cell_type": "code",
   "execution_count": 9,
   "metadata": {},
   "outputs": [
    {
     "name": "stdout",
     "output_type": "stream",
     "text": [
      "Trying C1\n",
      "WT_xcp struc\n",
      "xcpEngineouput_struc.zip\n",
      "Running analysis for C1\n",
      "Trying C2\n",
      "WT_xcp struc\n",
      "xcpEngineouput_struc.zip\n",
      "Running analysis for C2\n",
      "Trying C3\n",
      "WT_xcp struc\n",
      "xcpEngineouput_struc.zip\n",
      "Running analysis for C3\n"
     ]
    }
   ],
   "source": [
    "for sub in sid_list[0:3]:\n",
    "    ses = fw.lookup('davis/presurgicalEpilepsy/%s/ses-01' % (sub))\n",
    "    print('Trying %s' % (fw.get(ses.parents['subject']).label))\n",
    "    \n",
    "    # get ASL and M0 files\n",
    "    asl_img = None\n",
    "    m0_img = None\n",
    "    for acq in ses.acquisitions():\n",
    "        if acq.files[0].classification['Measurement'] == ['Perfusion']:\n",
    "            asl_container=fw.get(acq.id)\n",
    "            for f in asl_container.files:\n",
    "                if '.nii.gz' in f.name:\n",
    "                    asl_img=f\n",
    "        if 'M0' in acq.label:\n",
    "            m0_container=fw.get(acq.id)\n",
    "            for f in m0_container.files:\n",
    "                if '.nii.gz' in f.name:\n",
    "                    m0_img=f\n",
    "        else:\n",
    "            pass\n",
    "        \n",
    "    for analysis in ses.analyses:\n",
    "        if analysis.job.state!='failed' and analysis.gear_info.name=='xcpengine-fw' and analysis.job.config['config']['analysis_type']=='struc':\n",
    "            print(analysis.label)\n",
    "            struct_output = [f for f in analysis.files if 'struc' in f.name]\n",
    "            print(struct_output[0].name)\n",
    "    \n",
    "    \n",
    "    if asl_img is not None and m0_img is not None:\n",
    "        print('Running analysis for %s' % (sub))\n",
    "        # set inputs and config for gear\n",
    "        inputs = {'antsct': struct_output[0], 'designfile': design_file, 'img': asl_img, 'm0': m0_img}\n",
    "        config = {'analysis_type': 'cbf'}\n",
    "        #analysis_id = gear.run(analysis_label='WT_xcp cbf', config=config, inputs=inputs, destination=ses)"
   ]
  },
  {
   "cell_type": "code",
   "execution_count": null,
   "metadata": {},
   "outputs": [],
   "source": []
  }
 ],
 "metadata": {
  "kernelspec": {
   "display_name": "Python 3",
   "language": "python",
   "name": "python3"
  },
  "language_info": {
   "codemirror_mode": {
    "name": "ipython",
    "version": 3
   },
   "file_extension": ".py",
   "mimetype": "text/x-python",
   "name": "python",
   "nbconvert_exporter": "python",
   "pygments_lexer": "ipython3",
   "version": "3.7.3"
  }
 },
 "nbformat": 4,
 "nbformat_minor": 2
}
