{
 "cells": [
  {
   "cell_type": "code",
   "execution_count": 1,
   "metadata": {},
   "outputs": [],
   "source": [
    "import flywheel\n",
    "import datetime\n",
    "\n",
    "# Create client\n",
    "fw = flywheel.Client()\n",
    "\n",
    "# define containers & files\n",
    "gear = fw.lookup('gears/presurg')\n",
    "project = fw.lookup('davis/presurgicalEpilepsy')\n",
    "\n",
    "# set date for label\n",
    "x = datetime.datetime.now()\n",
    "date_str = '%s-%s-%s %s:%s' % (x.month, x.day, x.year, x.hour, x.minute)"
   ]
  },
  {
   "cell_type": "code",
   "execution_count": 2,
   "metadata": {},
   "outputs": [],
   "source": [
    "# create subject list\n",
    "fin = 'subs.txt'\n",
    "sid_list = [line.rstrip('\\n').split()[0] for line in open(fin)]"
   ]
  },
  {
   "cell_type": "code",
   "execution_count": 3,
   "metadata": {},
   "outputs": [
    {
     "name": "stdout",
     "output_type": "stream",
     "text": [
      "['P50', 'P51', 'P52', 'P53', 'P54', 'P55', 'P56', 'P57', 'P58', 'P59', 'P60', 'P61', 'P62', 'P63', 'P64', 'P65', 'P66', 'P67', 'P68', 'P69', 'P70']\n"
     ]
    }
   ],
   "source": [
    "print(sid_list)"
   ]
  },
  {
   "cell_type": "code",
   "execution_count": 4,
   "metadata": {},
   "outputs": [
    {
     "data": {
      "text/plain": [
       "['P50', 'P51', 'P52', 'P53', 'P54']"
      ]
     },
     "execution_count": 4,
     "metadata": {},
     "output_type": "execute_result"
    }
   ],
   "source": [
    "sid_list[0:5]"
   ]
  },
  {
   "cell_type": "code",
   "execution_count": 6,
   "metadata": {},
   "outputs": [
    {
     "name": "stdout",
     "output_type": "stream",
     "text": [
      "Using fmriprep_sub-P50_5d530da6c3758a006ede8192.zip as input fmriprep directory\n",
      "Using fmriprep_sub-P51_5d5c4b85c3758a0049eacc95.zip as input fmriprep directory\n",
      "Using fmriprep_sub-P52_5d5c4b5dc3758a0045defb02.zip as input fmriprep directory\n",
      "Using fmriprep_sub-P53_5d530da5c3758a0047ddd59b.zip as input fmriprep directory\n",
      "Using fmriprep_sub-P54_5d530da5c3758a0049e0f0ac.zip as input fmriprep directory\n"
     ]
    }
   ],
   "source": [
    "for sub in sid_list[0:5]:\n",
    "    ses = fw.lookup('davis/presurgicalEpilepsy/%s/ses-01' % (sub))\n",
    "\n",
    "    #get the latest fmriprep analysis\n",
    "    for a in ses.analyses:\n",
    "        if \"SB_fmriprep\" in a.label:\n",
    "            fprep = fw.get(a.id)\n",
    "\n",
    "    for f in fprep.files:\n",
    "        if \"fmriprep\" in f.name:\n",
    "            fmriprepdir = f\n",
    "    print('Using %s as input fmriprep directory' % (fmriprepdir.name))\n",
    "    # set inputs and config for gear\n",
    "    inputs = {'fmriprepdir': fmriprepdir }\n",
    "    config = {'AROMA': True, 'save_intermediary_files': True, 'thresh_method': 'cluster', 'fwhm': 8, 'cluster_size_thresh': 75}\n",
    "    analysis_id = gear.run(analysis_label='WT_presurg ' + date_str + ' AROMA cluster', config=config, inputs=inputs, destination=ses)"
   ]
  },
  {
   "cell_type": "code",
   "execution_count": null,
   "metadata": {},
   "outputs": [],
   "source": []
  }
 ],
 "metadata": {
  "kernelspec": {
   "display_name": "Python 3",
   "language": "python",
   "name": "python3"
  },
  "language_info": {
   "codemirror_mode": {
    "name": "ipython",
    "version": 3
   },
   "file_extension": ".py",
   "mimetype": "text/x-python",
   "name": "python",
   "nbconvert_exporter": "python",
   "pygments_lexer": "ipython3",
   "version": "3.7.3"
  }
 },
 "nbformat": 4,
 "nbformat_minor": 2
}
