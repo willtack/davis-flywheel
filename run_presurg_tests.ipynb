{
 "cells": [
  {
   "cell_type": "code",
   "execution_count": 34,
   "metadata": {},
   "outputs": [],
   "source": [
    "import flywheel\n",
    "import datetime\n",
    "\n",
    "# Create client\n",
    "fw = flywheel.Client()\n",
    "\n",
    "# define containers & files\n",
    "gear = fw.lookup('gears/presurg')\n",
    "project = fw.lookup('davis/presurgicalEpilepsy')\n",
    "\n",
    "# set date for label\n",
    "x = datetime.datetime.now()\n",
    "date_str = '%s-%s-%s %s:%s' % (x.month, x.day, x.year, x.hour, x.minute)"
   ]
  },
  {
   "cell_type": "code",
   "execution_count": 35,
   "metadata": {},
   "outputs": [],
   "source": [
    "# create subject list\n",
    "fin = 'subs.txt'\n",
    "sid_list = [line.rstrip('\\n').split()[0] for line in open(fin)]"
   ]
  },
  {
   "cell_type": "code",
   "execution_count": 36,
   "metadata": {},
   "outputs": [
    {
     "name": "stdout",
     "output_type": "stream",
     "text": [
      "['P50', 'P51', 'P52', 'P53', 'P54', 'P55', 'P56', 'P57', 'P58', 'P59', 'P60', 'P61', 'P62', 'P63', 'P64', 'P65', 'P66', 'P67', 'P68', 'P69', 'P70']\n"
     ]
    }
   ],
   "source": [
    "print(sid_list)"
   ]
  },
  {
   "cell_type": "code",
   "execution_count": 39,
   "metadata": {},
   "outputs": [
    {
     "name": "stdout",
     "output_type": "stream",
     "text": [
      "Using fmriprep_sub-P50_5d530da6c3758a006ede8192.zip as input fmriprep directory\n",
      "Using fmriprep_sub-P51_5d5c4b85c3758a0049eacc95.zip as input fmriprep directory\n",
      "Using fmriprep_sub-P52_5d5c4b5dc3758a0045defb02.zip as input fmriprep directory\n",
      "Using fmriprep_sub-P53_5d530da5c3758a0047ddd59b.zip as input fmriprep directory\n",
      "Using fmriprep_sub-P54_5d530da5c3758a0049e0f0ac.zip as input fmriprep directory\n",
      "Using fmriprep_sub-P55_5d530da5c3758a0049e0f0aa.zip as input fmriprep directory\n",
      "Using fmriprep_sub-P56_5d530dacc3758a0045da607a.zip as input fmriprep directory\n",
      "Using fmriprep_sub-P57_5d530dacc3758a0043d84fe7.zip as input fmriprep directory\n",
      "Using fmriprep_sub-P58_5d530da5c3758a006ede818e.zip as input fmriprep directory\n",
      "Using fmriprep_sub-P59_5d5426ffc3758a0049e2446e.zip as input fmriprep directory\n",
      "Using fmriprep_sub-P60_5d530da5c3758a006ede818c.zip as input fmriprep directory\n",
      "Using fmriprep_sub-P61_5d530da5c3758a0047ddd599.zip as input fmriprep directory\n",
      "Using fmriprep_sub-P62_5d530da5c3758a003ed62233.zip as input fmriprep directory\n",
      "Using fmriprep_sub-P63_5d5c4b33c3758a0043db4467.zip as input fmriprep directory\n",
      "Using fmriprep_sub-P64_5d646ea7c3758a0045e2230d.zip as input fmriprep directory\n",
      "Using fmriprep_sub-P65_5d530da5c3758a0047ddd597.zip as input fmriprep directory\n",
      "Using fmriprep_sub-P66_5d530da5c3758a0045da6074.zip as input fmriprep directory\n",
      "Using fmriprep_sub-P67_5d530da4c3758a0047ddd595.zip as input fmriprep directory\n",
      "Using fmriprep_sub-P68_5d530da4c3758a0047ddd593.zip as input fmriprep directory\n",
      "Using fmriprep_sub-P69_5d5c488bc3758a006eec1a63.zip as input fmriprep directory\n",
      "Using fmriprep_sub-P70_5d530dacc3758a0033d47980.zip as input fmriprep directory\n"
     ]
    }
   ],
   "source": [
    "for sub in sid_list:\n",
    "    ses = fw.lookup('davis/presurgicalEpilepsy/%s/ses-01' % (sub))\n",
    "\n",
    "    #get the latest fmriprep analysis\n",
    "    for a in ses.analyses:\n",
    "        if \"SB_fmriprep\" in a.label:\n",
    "            fprep = fw.get(a.id)\n",
    "\n",
    "    for f in fprep.files:\n",
    "        if \"fmriprep\" in f.name:\n",
    "            fmriprepdir = f\n",
    "    print('Using %s as input fmriprep directory' % (fmriprepdir.name))\n",
    "    # set inputs and config for gear\n",
    "    inputs = {'fmriprepdir': fmriprepdir }\n",
    "    config = {'AROMA': False, 'save_intermediary_files': True, 'thresh_method': 'FDR', 'fwhm': 8, 'cluster_size_thresh': 75}\n",
    "    analysis_id = gear.run(analysis_label='WT_presurg ' + date_str + ' non-AROMA', config=config, inputs=inputs, destination=ses)"
   ]
  },
  {
   "cell_type": "code",
   "execution_count": null,
   "metadata": {},
   "outputs": [],
   "source": []
  }
 ],
 "metadata": {
  "kernelspec": {
   "display_name": "Python 3",
   "language": "python",
   "name": "python3"
  },
  "language_info": {
   "codemirror_mode": {
    "name": "ipython",
    "version": 3
   },
   "file_extension": ".py",
   "mimetype": "text/x-python",
   "name": "python",
   "nbconvert_exporter": "python",
   "pygments_lexer": "ipython3",
   "version": "3.7.3"
  }
 },
 "nbformat": 4,
 "nbformat_minor": 2
}
