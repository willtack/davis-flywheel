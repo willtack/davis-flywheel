{
 "cells": [
  {
   "cell_type": "code",
   "execution_count": 1,
   "metadata": {},
   "outputs": [
    {
     "name": "stderr",
     "output_type": "stream",
     "text": [
      "/home/will/anaconda3/lib/python3.7/site-packages/flywheel/flywheel.py:5757: UserWarning: Client version 8.3.0 does not match server version 9.0.0-beta.2. Please update your client version!\n",
      "  warnings.warn('Client version {} does not match server version {}. Please update your client version!'.format(SDK_VERSION, release_version))\n",
      "WARNING:Flywheel:Use \"pip install flywheel-sdk~=9.0.0\" to install a compatible version for this server\n"
     ]
    }
   ],
   "source": [
    "import flywheel\n",
    "import datetime\n",
    "\n",
    "# create client\n",
    "fw = flywheel.Client()\n",
    "\n",
    "# define important containers/files\n",
    "gear = fw.lookup('gears/fw-heudiconv')\n",
    "project = fw.lookup('davis/presurgicalEpilepsy')\n",
    "heuristic = project.get_file('heuristic.py')\n",
    "\n",
    "# set date for label\n",
    "x = datetime.datetime.now()\n",
    "date_str = '%s-%s-%s %s:%s' % (x.month, x.day, x.year, x.hour, x.minute)\n",
    "\n",
    "# set inputs and config for gear\n",
    "inputs = {'heuristic': heuristic}\n",
    "config = {'action': 'Curate', 'do_whole_project': False, 'dry_run': False, 'extended_bids': True}\n",
    "\n",
    "for ses in project.sessions():\n",
    "    analysis_id = gear.run(analysis_label='heudiconv ' + date_str, config=config, inputs=inputs, destination=ses)"
   ]
  },
  {
   "cell_type": "code",
   "execution_count": null,
   "metadata": {},
   "outputs": [],
   "source": []
  }
 ],
 "metadata": {
  "kernelspec": {
   "display_name": "Python 3",
   "language": "python",
   "name": "python3"
  },
  "language_info": {
   "codemirror_mode": {
    "name": "ipython",
    "version": 3
   },
   "file_extension": ".py",
   "mimetype": "text/x-python",
   "name": "python",
   "nbconvert_exporter": "python",
   "pygments_lexer": "ipython3",
   "version": "3.7.3"
  }
 },
 "nbformat": 4,
 "nbformat_minor": 2
}
