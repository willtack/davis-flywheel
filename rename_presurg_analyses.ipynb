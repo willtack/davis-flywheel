{
 "cells": [
  {
   "cell_type": "code",
   "execution_count": 1,
   "metadata": {},
   "outputs": [],
   "source": [
    "import flywheel\n",
    "fw = flywheel.Client()"
   ]
  },
  {
   "cell_type": "code",
   "execution_count": 2,
   "metadata": {},
   "outputs": [],
   "source": [
    "project = fw.lookup('davis/presurgicalEpilepsy')"
   ]
  },
  {
   "cell_type": "code",
   "execution_count": 3,
   "metadata": {},
   "outputs": [],
   "source": [
    "for session in project.sessions():\n",
    "    ses = fw.get(session.id)\n",
    "    for a in ses.analyses:\n",
    "        if \"WT_presurg 10-10-2019 14:31\" in a.label:\n",
    "            a.update(label=\"WT_presurg 10-10-2019 14:31 AROMA\")"
   ]
  },
  {
   "cell_type": "markdown",
   "metadata": {},
   "source": [
    "Forgot that some of them were named `WT_presurg 10-6-2019 16:54 AROMA`, which got cleared out when I renamed to `WT_presurg 10-06-2019 16:54` so I'll sort by configuration and rename those:"
   ]
  },
  {
   "cell_type": "code",
   "execution_count": 81,
   "metadata": {},
   "outputs": [],
   "source": [
    "for session in project.sessions():\n",
    "    ses = fw.get(session.id)\n",
    "    for a in ses.analyses:\n",
    "        if \"WT_presurg 10-06-2019 16:54\" in a.label: # note change here\n",
    "            if a.job.config['config']['AROMA'] == True:\n",
    "                a.update(label=\"WT_presurg 10-06-2019 16:54 AROMA\")\n"
   ]
  },
  {
   "cell_type": "code",
   "execution_count": 80,
   "metadata": {},
   "outputs": [
    {
     "data": {
      "text/plain": [
       "{'fwhm': 8,\n",
       " 'thresh_method': 'FDR',\n",
       " 'cluster_size_thresh': 75,\n",
       " 'save_intermediary_files': True,\n",
       " 'AROMA': False}"
      ]
     },
     "execution_count": 80,
     "metadata": {},
     "output_type": "execute_result"
    }
   ],
   "source": [
    "a.job.config['config']"
   ]
  }
 ],
 "metadata": {
  "kernelspec": {
   "display_name": "Python 3",
   "language": "python",
   "name": "python3"
  },
  "language_info": {
   "codemirror_mode": {
    "name": "ipython",
    "version": 3
   },
   "file_extension": ".py",
   "mimetype": "text/x-python",
   "name": "python",
   "nbconvert_exporter": "python",
   "pygments_lexer": "ipython3",
   "version": "3.7.3"
  }
 },
 "nbformat": 4,
 "nbformat_minor": 2
}
