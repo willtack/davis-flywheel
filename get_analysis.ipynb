{
 "cells": [
  {
   "cell_type": "code",
   "execution_count": 1,
   "metadata": {},
   "outputs": [],
   "source": [
    "import flywheel\n",
    "fw = flywheel.Client()"
   ]
  },
  {
   "cell_type": "code",
   "execution_count": 2,
   "metadata": {},
   "outputs": [],
   "source": [
    "sub = 'P68'\n",
    "ses = fw.lookup('davis/presurgicalEpilepsy/' + sub + '/ses-01')"
   ]
  },
  {
   "cell_type": "code",
   "execution_count": 9,
   "metadata": {},
   "outputs": [
    {
     "name": "stdout",
     "output_type": "stream",
     "text": [
      "fmriprep 06/28/2019 12:34:11\n"
     ]
    }
   ],
   "source": [
    "#get the latest fmriprep analysis\n",
    "for a in ses.analyses:\n",
    "    if \"fmriprep\" in a.label:\n",
    "        fprep = fw.get(a.id)\n",
    "print(fprep.label)"
   ]
  },
  {
   "cell_type": "code",
   "execution_count": null,
   "metadata": {},
   "outputs": [],
   "source": [
    "#download all files associated with the fmriprep analysis \n",
    "for file in fprep.files:\n",
    "    fprep.download_file(file.name, '/home/will/' + file.name)"
   ]
  }
 ],
 "metadata": {
  "kernelspec": {
   "display_name": "Python 3",
   "language": "python",
   "name": "python3"
  },
  "language_info": {
   "codemirror_mode": {
    "name": "ipython",
    "version": 3
   },
   "file_extension": ".py",
   "mimetype": "text/x-python",
   "name": "python",
   "nbconvert_exporter": "python",
   "pygments_lexer": "ipython3",
   "version": "3.7.3"
  }
 },
 "nbformat": 4,
 "nbformat_minor": 2
}
