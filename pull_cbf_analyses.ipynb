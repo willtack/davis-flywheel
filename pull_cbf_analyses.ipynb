{
 "cells": [
  {
   "cell_type": "code",
   "execution_count": 1,
   "metadata": {},
   "outputs": [],
   "source": [
    "import flywheel\n",
    "fw = flywheel.Client()"
   ]
  },
  {
   "cell_type": "code",
   "execution_count": 1,
   "metadata": {},
   "outputs": [
    {
     "name": "stdout",
     "output_type": "stream",
     "text": [
      "['P01', 'P02', 'P03', 'P04', 'P05', 'P06', 'P07', 'P08', 'P09', 'P10', 'P11', 'P12', 'P13', 'P14', 'P15', 'P16', 'P17', 'P18', 'P19', 'P20', 'P21', 'P22', 'P23', 'P24', 'P25', 'P26', 'P27', 'P28', 'P29', 'P30', 'P31', 'P32', 'P33', 'P34', 'P35', 'P36', 'P37', 'P38', 'P39', 'P40', 'P41', 'P42', 'P43', 'P44', 'P45', 'P46', 'P47', 'P48', 'P49', 'P50', 'P51', 'P52', 'P53', 'P54', 'P55', 'P56', 'P57', 'P58', 'P59', 'P60', 'P61', 'P62', 'P63', 'P64', 'P65', 'P66', 'P67', 'P68', 'P69', 'P70', 'P71', 'P72', 'P73', 'P74', 'P75', 'P76', 'P77', 'P78', 'P79', 'P80']\n"
     ]
    }
   ],
   "source": [
    "# create subject list\n",
    "fin = \"patients.txt\"\n",
    "sid_list = [line.rstrip('\\n').split()[0] for line in open(fin)]\n",
    "print(sid_list)"
   ]
  },
  {
   "cell_type": "code",
   "execution_count": 6,
   "metadata": {},
   "outputs": [
    {
     "name": "stdout",
     "output_type": "stream",
     "text": [
      "Pulling analysis from subject P77\n",
      "WT_xcp cbf 10-30-2019 13:11\n",
      "xcpEngineouput_cbf.zip\n",
      "Pulling analysis from subject P78\n",
      "WT_xcp cbf 10-30-2019 13:11\n",
      "xcpEngineouput_cbf.zip\n",
      "Pulling analysis from subject P79\n",
      "WT_xcp cbf 10-30-2019 13:11\n",
      "xcpEngineouput_cbf.zip\n",
      "Pulling analysis from subject P80\n",
      "WT_xcp cbf 10-30-2019 13:11\n",
      "xcpEngineouput_cbf.zip\n"
     ]
    }
   ],
   "source": [
    "project = fw.lookup('davis/presurgicalEpilepsy')\n",
    "for sub in sid_list:\n",
    "    ses = fw.lookup('davis/presurgicalEpilepsy/%s/ses-01' % (sub))\n",
    "    print('Pulling analysis from subject %s' % (sub))\n",
    "    for a in ses.analyses:\n",
    "        if a.files and \"WT_xcp cbf 10-30-2019 13:11\" in a.label:\n",
    "            cbf_analysis = fw.get(a.id)\n",
    "            print(cbf_analysis.label)\n",
    "            \n",
    "            # download zip folder\n",
    "            zip_folder = [f for f in a.files if 'xcpEngineouput_cbf.zip' in f.name] \n",
    "            print(zip_folder[0].name)\n",
    "            cbf_analysis.download_file(zip_folder[0].name, '/home/will/cbf_analyses/%s_%s' % (sub, zip_folder[0].name))"
   ]
  },
  {
   "cell_type": "code",
   "execution_count": null,
   "metadata": {},
   "outputs": [],
   "source": []
  }
 ],
 "metadata": {
  "kernelspec": {
   "display_name": "Python 3",
   "language": "python",
   "name": "python3"
  },
  "language_info": {
   "codemirror_mode": {
    "name": "ipython",
    "version": 3
   },
   "file_extension": ".py",
   "mimetype": "text/x-python",
   "name": "python",
   "nbconvert_exporter": "python",
   "pygments_lexer": "ipython3",
   "version": "3.7.3"
  }
 },
 "nbformat": 4,
 "nbformat_minor": 2
}
