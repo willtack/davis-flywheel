{
 "cells": [
  {
   "cell_type": "code",
   "execution_count": 6,
   "metadata": {},
   "outputs": [],
   "source": [
    "import flywheel\n",
    "import datetime\n",
    "import pytz\n",
    "import time \n",
    "\n",
    "# Create client\n",
    "fw = flywheel.Client()\n",
    "\n",
    "# define containers & files\n",
    "gear = fw.lookup('gears/presurg/1.0.17')\n",
    "project = fw.lookup('davis/presurgicalEpilepsy')"
   ]
  },
  {
   "cell_type": "code",
   "execution_count": 7,
   "metadata": {},
   "outputs": [],
   "source": [
    "# create subject list\n",
    "fin = 'patients.txt'\n",
    "sid_list = [line.rstrip('\\n').split()[0] for line in open(fin)]"
   ]
  },
  {
   "cell_type": "code",
   "execution_count": 8,
   "metadata": {},
   "outputs": [
    {
     "name": "stdout",
     "output_type": "stream",
     "text": [
      "['P01', 'P02', 'P03', 'P04', 'P05', 'P06', 'P07', 'P08', 'P09', 'P10', 'P11', 'P12', 'P13', 'P14', 'P15', 'P16', 'P17', 'P18', 'P19', 'P20', 'P21', 'P22', 'P23', 'P24', 'P25', 'P26', 'P27', 'P28', 'P29', 'P30', 'P31', 'P32', 'P33', 'P34', 'P35', 'P36', 'P37', 'P38', 'P39', 'P40', 'P41', 'P42', 'P43', 'P44', 'P45', 'P46', 'P47', 'P48', 'P49', 'P50', 'P51', 'P52', 'P53', 'P54', 'P55', 'P56', 'P57', 'P58', 'P59', 'P60', 'P61', 'P62', 'P63', 'P64', 'P65', 'P66', 'P67', 'P68', 'P69', 'P70', 'P71', 'P72', 'P73', 'P74', 'P75', 'P76', 'P77', 'P78', 'P79', 'P80']\n"
     ]
    }
   ],
   "source": [
    "print(sid_list)"
   ]
  },
  {
   "cell_type": "code",
   "execution_count": 9,
   "metadata": {},
   "outputs": [],
   "source": [
    "sid_list = ['P26','P27']"
   ]
  },
  {
   "cell_type": "code",
   "execution_count": 10,
   "metadata": {
    "scrolled": false
   },
   "outputs": [
    {
     "name": "stdout",
     "output_type": "stream",
     "text": [
      "Trying subject P26\n",
      "SB_fmriprep 8-13-2019 15:21\n",
      " Using fmriprep_sub-P26_5d530da8c3758a0047ddd5a9.zip as input fmriprep directory\n",
      " Running analysis for P26\n",
      "Trying subject P27\n",
      "SB_fmriprep 8-13-2019 15:21\n",
      " Using fmriprep_sub-P27_5d530da7c3758a0027d44824.zip as input fmriprep directory\n",
      " Running analysis for P27\n"
     ]
    }
   ],
   "source": [
    "for sub in sid_list:\n",
    "    ses = fw.lookup('davis/presurgicalEpilepsy/%s/ses-01' % (sub))\n",
    "    print('Trying subject %s' % (fw.get(ses.parents['subject']).label))\n",
    "\n",
    "    # Check if there is task-fMRI data\n",
    "    bold_img = None\n",
    "    for acq in ses.acquisitions():\n",
    "        if 'BOLD_Sentence' in acq.label or 'BOLD_Wordgen' in acq.label or 'BOLD_SceneMem' in acq.label:\n",
    "            bold_container=fw.get(acq.id)\n",
    "            for file in bold_container.files:\n",
    "                if '.nii.gz' in file.name:\n",
    "                    bold_img=file\n",
    "    if bold_img is None:\n",
    "        print(\"  %s: No task-fMRI data.\" % (sub))\n",
    "\n",
    "    # Get the fmriprep analysis and check if already been run successfully\n",
    "    for analysis in ses.analyses:\n",
    "        if analysis.files and \"fmriprep\" in analysis.label:\n",
    "            fprep = fw.get(analysis.id)\n",
    "            print(analysis.label)\n",
    "    for file in fprep.files:\n",
    "        if \"fmriprep\" in file.name:\n",
    "            fmriprepdir = file\n",
    "            print(' Using %s as input fmriprep directory' % (fmriprepdir.name))\n",
    "\n",
    "    # Run gear\n",
    "    if fprep is not None and bold_img is not None:\n",
    "        print(' Running analysis for %s' % (sub))\n",
    "        inputs = {'fmriprepdir': fmriprepdir }\n",
    "        config = {'AROMA': True, 'save_intermediary_files': True,'fwhm': 6, 'cluster_size_thresh': 150}\n",
    "        analysis_id = gear.run(analysis_label='lingua-map (1)', config=config, inputs=inputs, destination=ses)"
   ]
  },
  {
   "cell_type": "code",
   "execution_count": null,
   "metadata": {},
   "outputs": [],
   "source": [
    "# sleep for an hour\n",
    "#time.sleep(216000)"
   ]
  },
  {
   "cell_type": "code",
   "execution_count": 23,
   "metadata": {},
   "outputs": [
    {
     "name": "stdout",
     "output_type": "stream",
     "text": [
      "P32's job failed. Retrying...\n",
      "1\n",
      "{'_id': '5dc48224e74aa300601ad967'}\n",
      "P39's job failed. Retrying...\n",
      "1\n",
      "{'_id': '5dc4822fe74aa3005e1105e5'}\n",
      "P47's job failed. Retrying...\n",
      "1\n",
      "{'_id': '5dc4823ae74aa3005e1105eb'}\n",
      "P53's job failed. Retrying...\n",
      "1\n",
      "{'_id': '5dc48245e74aa30057003012'}\n",
      "P53's job failed. Retrying...\n",
      "1\n",
      "{'_id': '5dc48246e74aa3005e1105ed'}\n",
      "P64's job failed. Retrying...\n",
      "1\n",
      "{'_id': '5dc48258e74aa300601ad992'}\n",
      "P64's job failed. Retrying...\n",
      "1\n",
      "{'_id': '5dc48259e74aa3005e110616'}\n",
      "P76's job failed. Retrying...\n",
      "1\n",
      "{'_id': '5dc4826ee74aa300601ada37'}\n"
     ]
    }
   ],
   "source": [
    "utc = pytz.UTC\n",
    "threshold = datetime.datetime(2019, 11, 6, 10)\n",
    "threshold = utc.localize(threshold)\n",
    "\n",
    "# Retry failed analyses\n",
    "for sub in sid_list[28:]:\n",
    "    if sub=='P31' or sub=='P33' or sub=='P46' or sub=='P64': # fix these later\n",
    "        continue\n",
    "    ses = fw.lookup('davis/presurgicalEpilepsy/%s/ses-01' % (sub))\n",
    "    for analysis in ses.analyses:\n",
    "        if \"lingua-map\" in analysis.label and analysis.job.state=='failed' and (analysis.created > threshold):\n",
    "            print(\"%s's job failed. Retrying...\" % (sub))\n",
    "            job = analysis.job\n",
    "            print(job.attempt)\n",
    "            print(job.failure_reason)\n",
    "            new_id = fw.retry_job(job.id)\n",
    "            print(new_id)\n"
   ]
  },
  {
   "cell_type": "code",
   "execution_count": null,
   "metadata": {},
   "outputs": [],
   "source": []
  }
 ],
 "metadata": {
  "kernelspec": {
   "display_name": "Python 3",
   "language": "python",
   "name": "python3"
  },
  "language_info": {
   "codemirror_mode": {
    "name": "ipython",
    "version": 3
   },
   "file_extension": ".py",
   "mimetype": "text/x-python",
   "name": "python",
   "nbconvert_exporter": "python",
   "pygments_lexer": "ipython3",
   "version": "3.7.3"
  }
 },
 "nbformat": 4,
 "nbformat_minor": 2
}
