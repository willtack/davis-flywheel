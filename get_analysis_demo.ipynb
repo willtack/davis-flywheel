{
 "cells": [
  {
   "cell_type": "markdown",
   "metadata": {},
   "source": [
    "# <span style=\"font-size:larger;\">Method 1</span>\n",
    "\n",
    "This is one way of downloading an analysis using the Flywheel SDK. It is not the most efficient way, but it will demonstrate Flywheel's container hierarchy and give an overview of the SDK in general.\n",
    "\n",
    "First, import the flywheel module and assign the flywheel Client to a variable."
   ]
  },
  {
   "cell_type": "code",
   "execution_count": 1,
   "metadata": {},
   "outputs": [],
   "source": [
    "import flywheel\n",
    "fw = flywheel.Client()"
   ]
  },
  {
   "cell_type": "markdown",
   "metadata": {},
   "source": [
    "Then, find a session using the client's `fw.lookup()` function. Just pass it a string, which you can treat as essentially like a directory path of *group/project/session*."
   ]
  },
  {
   "cell_type": "code",
   "execution_count": 2,
   "metadata": {},
   "outputs": [
    {
     "name": "stdout",
     "output_type": "stream",
     "text": [
      "<class 'flywheel.models.resolver_session_node.ResolverSessionNode'>\n"
     ]
    }
   ],
   "source": [
    "ses = fw.lookup('davis/presurgicalEpilepsy/P68/ses-01')\n",
    "print(type(ses))"
   ]
  },
  {
   "cell_type": "markdown",
   "metadata": {},
   "source": [
    "Loop through all the analyses in the session. Note that `analyses` is a list, as opposed to an indexer that points to a container in Flywheel's database (like `ses`). "
   ]
  },
  {
   "cell_type": "code",
   "execution_count": 3,
   "metadata": {},
   "outputs": [
    {
     "name": "stdout",
     "output_type": "stream",
     "text": [
      "<class 'list'>\n",
      "5cd47e3408a996004265108a: fw-heudiconv 05/09/2019 15:22:27 \n",
      "5cdb1a0708a99600596552ea: heudiconv 5-14-2019 15:41 \n",
      "5ce2eb1136da2300473a6bbc: heudiconv 5-20-2019 13:59 \n",
      "5ceeb1b336da2300423ab174: heudiconv 5-29-2019 12:22 \n",
      "5cfa7c3836da2300443b577e: fmriprep 06/07/2019 11:00:05 \n",
      "5d015557a550c600466fcc00: XCP: cbf \n",
      "5d016412a550c600466fce74: XCP: basil \n",
      "5d016467a550c600486fdf6c: XCP: cbf_score \n",
      "5d0164b6a550c600466fceae: XCP: cbf_basil \n",
      "5d0164f0a550c6003d6fb302: XCP: cbf_basil_score_scrub \n",
      "5d016556a550c600466fceeb: XCP: cbf_scrub \n",
      "5d027bf0a550c600466fe1cf: XCP: basil_run2 \n",
      "5d02a02ba550c600396fb333: XCP: cbf_run2 \n",
      "5d02a2a2a550c600406fba33: XCP: cbf_run3 \n",
      "5d02a5faa550c600446fce88: XCP: cbf_run4 \n",
      "5d07f543a550c600416fe4f0: XCP: basil_run3 \n",
      "5d14e3f7a550c60041705496: fw-heudiconv 06/27/2019 11:42:10 \n",
      "5d14e3f9a550c600396fd53d: fw-heudiconv 06/27/2019 11:42:10 \n",
      "5d14f77da550c6004872ae63: fw-heudiconv 06/27/2019 13:05:32 \n",
      "5d152294a550c6004872cb94: fw-heudiconv 06/27/2019 16:09:28 \n",
      "5d152383a550c6004671a9ca: fw-heudiconv 06/27/2019 16:13:38 \n",
      "5d164197a550c60048733f76: fmriprep 06/28/2019 12:34:11 \n"
     ]
    }
   ],
   "source": [
    "print(type(ses.analyses))\n",
    "\n",
    "for a in ses.analyses:\n",
    "     print('%s: %s ' % (a.id, a.label))"
   ]
  },
  {
   "cell_type": "markdown",
   "metadata": {},
   "source": [
    "Find the analysis you want to download and assign it to a variable using the client's `get()` function, passing in the container ID."
   ]
  },
  {
   "cell_type": "code",
   "execution_count": 4,
   "metadata": {},
   "outputs": [
    {
     "name": "stdout",
     "output_type": "stream",
     "text": [
      "fmriprep 06/07/2019 11:00:05\n"
     ]
    }
   ],
   "source": [
    "fprep = fw.get('5cfa7c3836da2300443b577e')\n",
    "print(fprep.label)"
   ]
  },
  {
   "cell_type": "markdown",
   "metadata": {},
   "source": [
    "Now loop through the files in the analysis, and print out the names and IDs to see what's there. "
   ]
  },
  {
   "cell_type": "code",
   "execution_count": 5,
   "metadata": {},
   "outputs": [
    {
     "name": "stdout",
     "output_type": "stream",
     "text": [
      "sub-P68_5cfa7c3836da2300443b577e.html.zip b617d872-3163-4b1c-b258-6f69d7cdc76a\n",
      "fmriprep_sub-P68_5cfa7c3836da2300443b577e.zip 88a84cce-9d5d-415a-a8ac-ab515d65c8d2\n"
     ]
    }
   ],
   "source": [
    " for file in fprep.files:\n",
    "     print('%s %s' % (file.name, file.id))"
   ]
  },
  {
   "cell_type": "markdown",
   "metadata": {},
   "source": [
    "Finally, select a file and download it with the analysis' function `analysis.download_file()` which takes the file name as its first arguments and a local path to the output file as its second argument, both as strings. "
   ]
  },
  {
   "cell_type": "code",
   "execution_count": 6,
   "metadata": {},
   "outputs": [],
   "source": [
    "fprep.download_file('sub-P68_5cfa7c3836da2300443b577e.html.zip','/home/will/P68_report')"
   ]
  },
  {
   "cell_type": "markdown",
   "metadata": {},
   "source": [
    "# <span style=\"font-size:larger;\">**Method 2**</span>\n",
    "\n",
    "This is the more efficient and script-able way of downloading an analysis.\n"
   ]
  },
  {
   "cell_type": "code",
   "execution_count": 7,
   "metadata": {},
   "outputs": [],
   "source": [
    "import flywheel\n",
    "fw = flywheel.Client()"
   ]
  },
  {
   "cell_type": "code",
   "execution_count": 8,
   "metadata": {},
   "outputs": [],
   "source": [
    "sub = 'P68' # subject defined explicitly here, but it could be defined using an argument to the script. \n",
    "ses = fw.lookup('davis/presurgicalEpilepsy/' + sub + '/ses-01')"
   ]
  },
  {
   "cell_type": "markdown",
   "metadata": {},
   "source": [
    "Search for fmriprep analyses. This will grab the *latest* one (assuming the date is in the analysis label). "
   ]
  },
  {
   "cell_type": "code",
   "execution_count": 9,
   "metadata": {},
   "outputs": [
    {
     "name": "stdout",
     "output_type": "stream",
     "text": [
      "fmriprep 06/28/2019 12:34:11\n"
     ]
    }
   ],
   "source": [
    "for a in ses.analyses:\n",
    "    if \"fmriprep\" in a.label:\n",
    "        fprep = fw.get(a.id)\n",
    "print(fprep.label)"
   ]
  },
  {
   "cell_type": "markdown",
   "metadata": {},
   "source": [
    "Now simply download all the files in the analysis."
   ]
  },
  {
   "cell_type": "code",
   "execution_count": 10,
   "metadata": {},
   "outputs": [
    {
     "name": "stdout",
     "output_type": "stream",
     "text": [
      "sub-P68_5d164197a550c60048733f76.html.zip\n",
      "fmriprep_sub-P68_5d164197a550c60048733f76.zip\n"
     ]
    }
   ],
   "source": [
    "for file in fprep.files:\n",
    "    print(file.name)\n",
    "    #fprep.download_file(file.name, '/home/will/' + file.name) commenting so I don't accidentally download a multi-GB folder"
   ]
  },
  {
   "cell_type": "code",
   "execution_count": null,
   "metadata": {},
   "outputs": [],
   "source": []
  }
 ],
 "metadata": {
  "kernelspec": {
   "display_name": "Python 3",
   "language": "python",
   "name": "python3"
  },
  "language_info": {
   "codemirror_mode": {
    "name": "ipython",
    "version": 3
   },
   "file_extension": ".py",
   "mimetype": "text/x-python",
   "name": "python",
   "nbconvert_exporter": "python",
   "pygments_lexer": "ipython3",
   "version": "3.7.3"
  }
 },
 "nbformat": 4,
 "nbformat_minor": 2
}
