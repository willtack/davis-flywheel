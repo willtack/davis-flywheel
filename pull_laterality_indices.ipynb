{
 "cells": [
  {
   "cell_type": "code",
   "execution_count": 4,
   "metadata": {},
   "outputs": [],
   "source": [
    "import flywheel\n",
    "import datetime\n",
    "import pytz\n",
    "\n",
    "utc = pytz.UTC\n",
    "threshold = datetime.datetime(2019, 11, 18, 10)\n",
    "threshold = utc.localize(threshold)\n",
    "\n",
    "fw = flywheel.Client()"
   ]
  },
  {
   "cell_type": "code",
   "execution_count": 5,
   "metadata": {},
   "outputs": [
    {
     "name": "stdout",
     "output_type": "stream",
     "text": [
      "['P01', 'P02', 'P03', 'P04', 'P05', 'P06', 'P07', 'P08', 'P09', 'P10', 'P11', 'P12', 'P13', 'P14', 'P15', 'P16', 'P17', 'P18', 'P19', 'P20', 'P21', 'P22', 'P23', 'P24', 'P25', 'P26', 'P27', 'P28', 'P29', 'P30', 'P31', 'P32', 'P33', 'P34', 'P35', 'P36', 'P37', 'P38', 'P39', 'P40', 'P41', 'P42', 'P43', 'P44', 'P45', 'P46', 'P47', 'P48', 'P49', 'P50', 'P51', 'P52', 'P53', 'P54', 'P55', 'P56', 'P57', 'P58', 'P59', 'P60', 'P61', 'P62', 'P63', 'P64', 'P65', 'P66', 'P67', 'P68', 'P69', 'P70', 'P71', 'P72', 'P73', 'P74', 'P75', 'P76', 'P77', 'P78', 'P79', 'P80']\n"
     ]
    }
   ],
   "source": [
    "# create subject list\n",
    "fin = 'patients.txt'\n",
    "sid_list = [line.rstrip('\\n').split()[0] for line in open(fin)]\n",
    "print(sid_list)"
   ]
  },
  {
   "cell_type": "code",
   "execution_count": 8,
   "metadata": {},
   "outputs": [
    {
     "name": "stdout",
     "output_type": "stream",
     "text": [
      "Trying subject P28\n",
      "Downloading csv for P28\n",
      "Trying subject P29\n",
      "Downloading csv for P29\n",
      "Trying subject P30\n",
      "Downloading csv for P30\n",
      "Trying subject P31\n",
      "Trying subject P32\n",
      "Downloading csv for P32\n",
      "Trying subject P33\n",
      "Downloading csv for P33\n",
      "Trying subject P34\n",
      "Downloading csv for P34\n",
      "Trying subject P35\n",
      "Downloading csv for P35\n",
      "Trying subject P36\n",
      "Downloading csv for P36\n",
      "Trying subject P37\n",
      "Downloading csv for P37\n",
      "Trying subject P38\n",
      "Downloading csv for P38\n",
      "Trying subject P39\n",
      "Trying subject P40\n",
      "Downloading csv for P40\n",
      "Trying subject P41\n",
      "Downloading csv for P41\n",
      "Trying subject P42\n",
      "Downloading csv for P42\n",
      "Trying subject P43\n",
      "Downloading csv for P43\n",
      "Trying subject P44\n",
      "Downloading csv for P44\n",
      "Trying subject P45\n",
      "Downloading csv for P45\n",
      "Trying subject P46\n",
      "Trying subject P47\n",
      "Downloading csv for P47\n",
      "Trying subject P48\n",
      "Downloading csv for P48\n",
      "Trying subject P49\n",
      "Downloading csv for P49\n",
      "Trying subject P50\n",
      "Downloading csv for P50\n",
      "Trying subject P51\n",
      "Downloading csv for P51\n",
      "Trying subject P52\n",
      "Downloading csv for P52\n",
      "Trying subject P53\n",
      "Downloading csv for P53\n",
      "Downloading csv for P53\n",
      "Trying subject P54\n",
      "Downloading csv for P54\n",
      "Trying subject P55\n",
      "Downloading csv for P55\n",
      "Trying subject P56\n",
      "Downloading csv for P56\n",
      "Trying subject P57\n",
      "Downloading csv for P57\n",
      "Trying subject P58\n",
      "Downloading csv for P58\n",
      "Downloading csv for P58\n",
      "Trying subject P59\n",
      "Downloading csv for P59\n",
      "Trying subject P60\n",
      "Downloading csv for P60\n",
      "Trying subject P61\n",
      "Downloading csv for P61\n",
      "Trying subject P62\n",
      "Downloading csv for P62\n",
      "Trying subject P63\n",
      "Downloading csv for P63\n",
      "Trying subject P64\n",
      "Trying subject P65\n",
      "Downloading csv for P65\n",
      "Trying subject P66\n",
      "Downloading csv for P66\n",
      "Trying subject P67\n",
      "Downloading csv for P67\n",
      "Trying subject P68\n",
      "Downloading csv for P68\n",
      "Trying subject P69\n",
      "Downloading csv for P69\n",
      "Trying subject P70\n",
      "Downloading csv for P70\n",
      "Trying subject P71\n",
      "Downloading csv for P71\n",
      "Trying subject P72\n",
      "Downloading csv for P72\n",
      "Trying subject P73\n",
      "Downloading csv for P73\n",
      "Trying subject P74\n",
      "Downloading csv for P74\n",
      "Trying subject P75\n",
      "Downloading csv for P75\n",
      "Trying subject P76\n",
      "Downloading csv for P76\n",
      "Trying subject P77\n",
      "Trying subject P78\n",
      "Downloading csv for P78\n",
      "Trying subject P79\n",
      "Downloading csv for P79\n",
      "Trying subject P80\n",
      "Downloading csv for P80\n"
     ]
    }
   ],
   "source": [
    "for sub in sid_list[27:]:\n",
    "    ses = fw.lookup('davis/presurgicalEpilepsy/%s/ses-01' % (sub))\n",
    "    print('Trying subject %s' % (sub))\n",
    "    for analysis in ses.analyses:\n",
    "        if \"lingua-map\" in analysis.label and analysis.job.state!='failed' and analysis.files and (analysis.created > threshold):\n",
    "            analysis_container = fw.get(analysis.id)\n",
    "            csv = [f for f in analysis_container.files if 'laterality_indices.csv' in f.name]\n",
    "            analysis.download_file(csv[0].name, '/home/will/laterality_indices/' + csv[0].name)\n",
    "            print('Downloading csv for %s' % (sub))\n"
   ]
  },
  {
   "cell_type": "code",
   "execution_count": null,
   "metadata": {},
   "outputs": [],
   "source": []
  }
 ],
 "metadata": {
  "kernelspec": {
   "display_name": "Python 3",
   "language": "python",
   "name": "python3"
  },
  "language_info": {
   "codemirror_mode": {
    "name": "ipython",
    "version": 3
   },
   "file_extension": ".py",
   "mimetype": "text/x-python",
   "name": "python",
   "nbconvert_exporter": "python",
   "pygments_lexer": "ipython3",
   "version": "3.7.3"
  }
 },
 "nbformat": 4,
 "nbformat_minor": 2
}
