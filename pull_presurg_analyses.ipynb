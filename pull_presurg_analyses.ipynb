{
 "cells": [
  {
   "cell_type": "code",
   "execution_count": 2,
   "metadata": {},
   "outputs": [],
   "source": [
    "import flywheel\n",
    "fw = flywheel.Client()"
   ]
  },
  {
   "cell_type": "code",
   "execution_count": 3,
   "metadata": {},
   "outputs": [
    {
     "name": "stdout",
     "output_type": "stream",
     "text": [
      "['P50', 'P51', 'P52', 'P53', 'P54', 'P55', 'P56', 'P57', 'P58', 'P59', 'P60', 'P61', 'P62', 'P63', 'P64', 'P65', 'P66', 'P67', 'P68', 'P69', 'P70']\n"
     ]
    }
   ],
   "source": [
    "# create subject list\n",
    "fin = 'patients.txt'\n",
    "sid_list = [line.rstrip('\\n').split()[0] for line in open(fin)]\n",
    "print(sid_list)"
   ]
  },
  {
   "cell_type": "code",
   "execution_count": null,
   "metadata": {},
   "outputs": [],
   "source": [
    "for sub in sid_list:\n",
    "    ses = fw.lookup('davis/presurgicalEpilepsy/%s/ses-01' % (sub))\n",
    "    for a in ses.analyses:\n",
    "        if \"WT_presurg 10-10-2019 14:31\" in a.label:\n",
    "            analysis = fw.get(a.id)\n",
    "            for file in analysis.files:\n",
    "                analysis.download_file(file.name, '/Users/will/presurg_testing/new_AROMA/' + file.name)"
   ]
  },
  {
   "cell_type": "code",
   "execution_count": null,
   "metadata": {},
   "outputs": [],
   "source": []
  }
 ],
 "metadata": {
  "kernelspec": {
   "display_name": "Python 3",
   "language": "python",
   "name": "python3"
  },
  "language_info": {
   "codemirror_mode": {
    "name": "ipython",
    "version": 3
   },
   "file_extension": ".py",
   "mimetype": "text/x-python",
   "name": "python",
   "nbconvert_exporter": "python",
   "pygments_lexer": "ipython3",
   "version": "3.7.4"
  }
 },
 "nbformat": 4,
 "nbformat_minor": 2
}
