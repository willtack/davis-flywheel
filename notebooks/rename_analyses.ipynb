{
 "cells": [
  {
   "cell_type": "code",
   "execution_count": 5,
   "metadata": {},
   "outputs": [],
   "source": [
    "import flywheel\n",
    "fw = flywheel.Client()\n",
    "project = fw.lookup('davis/presurgicalEpilepsy')"
   ]
  },
  {
   "cell_type": "code",
   "execution_count": 17,
   "metadata": {
    "scrolled": false
   },
   "outputs": [
    {
     "name": "stdout",
     "output_type": "stream",
     "text": [
      "P53\n",
      "WT_fmriprep 11-14-2019 11:57\n",
      "WT_fmriprep\n",
      "P75\n",
      "WT_fmriprep 10-08-2019 17:42\n",
      "WT_fmriprep\n",
      "P78\n",
      "WT_fmriprep 07-31-2019 10:01:46\n",
      "WT_fmriprep\n",
      "P64\n",
      "WT_fmriprep 11-14-2019 11:57\n",
      "WT_fmriprep\n",
      "P64\n",
      "WT_fmriprep 11-20-2019 10:09\n",
      "WT_fmriprep\n",
      "P46\n",
      "WT_fmriprep 11-19-2019 17:04\n",
      "WT_fmriprep\n",
      "P79\n",
      "[test] WT_fmriprep 09-27-2019 18:43:41 SDC attempt\n",
      "WT_fmriprep\n",
      "P79\n",
      "[test] WT_fmriprep 09-30-2019 12:18:33 SDC success\n",
      "WT_fmriprep\n",
      "C1\n",
      "WT_fmriprep 10-24-2019 12:12\n",
      "WT_fmriprep\n",
      "C2\n",
      "WT_fmriprep 10-24-2019 12:12\n",
      "WT_fmriprep\n",
      "C3\n",
      "WT_fmriprep 10-24-2019 12:12\n",
      "WT_fmriprep\n",
      "C4\n",
      "WT_fmriprep 10-24-2019 12:12\n",
      "WT_fmriprep\n",
      "C5\n",
      "WT_fmriprep 10-24-2019 12:12\n",
      "WT_fmriprep\n",
      "C6\n",
      "WT_fmriprep 10-24-2019 12:12\n",
      "WT_fmriprep\n",
      "C7\n",
      "WT_fmriprep 10-24-2019 12:12\n",
      "WT_fmriprep\n",
      "C8\n",
      "WT_fmriprep 10-24-2019 12:12\n",
      "WT_fmriprep\n",
      "C9\n",
      "WT_fmriprep 10-24-2019 12:12\n",
      "WT_fmriprep\n",
      "C10\n",
      "WT_fmriprep 10-24-2019 12:12\n",
      "WT_fmriprep\n",
      "C12\n",
      "WT_fmriprep 10-24-2019 12:12\n",
      "WT_fmriprep\n",
      "C13\n",
      "WT_fmriprep 10-24-2019 12:12\n",
      "WT_fmriprep\n",
      "C14\n",
      "WT_fmriprep 10-24-2019 12:12\n",
      "WT_fmriprep\n",
      "C15\n",
      "WT_fmriprep 10-24-2019 12:35\n",
      "WT_fmriprep\n",
      "C11\n",
      "WT_fmriprep 10-25-2019 16:22\n",
      "WT_fmriprep\n",
      "C11\n",
      "WT_fmriprep 10-25-2019 17:32\n",
      "WT_fmriprep\n"
     ]
    }
   ],
   "source": [
    "for session in project.sessions():\n",
    "    ses = fw.get(session.id)\n",
    "    for a in ses.analyses:\n",
    "        if fw.get(ses.parents['subject']).label == 'P31':\n",
    "            continue\n",
    "#         if \"WT_xcp\" in a.label:\n",
    "#             print(fw.get(ses.parents['subject']).label)\n",
    "#             print(a.label)\n",
    "#             if a.job.config['config']['analysis_type'] == 'cbf':\n",
    "#                 lbl = 'WT_xcp cbf'\n",
    "#             elif a.job.config['config']['analysis_type'] == 'struc':\n",
    "#                 lbl = 'WT_xcp struc'\n",
    "#             elif a.job.config['config']['analysis_type'] == 'fc':\n",
    "#                 lbl = 'WT_xcp fc'\n",
    "        if \"WT_fmriprep\" in a.label:\n",
    "            print(fw.get(ses.parents['subject']).label)\n",
    "            print(a.label)\n",
    "            lbl = \"WT_fmriprep\"\n",
    "            print(lbl)\n",
    "            a.update(label=lbl)"
   ]
  },
  {
   "cell_type": "code",
   "execution_count": 12,
   "metadata": {},
   "outputs": [
    {
     "name": "stdout",
     "output_type": "stream",
     "text": [
      "complete\n"
     ]
    }
   ],
   "source": [
    "print(a.job.state)"
   ]
  }
 ],
 "metadata": {
  "kernelspec": {
   "display_name": "Python 3",
   "language": "python",
   "name": "python3"
  },
  "language_info": {
   "codemirror_mode": {
    "name": "ipython",
    "version": 3
   },
   "file_extension": ".py",
   "mimetype": "text/x-python",
   "name": "python",
   "nbconvert_exporter": "python",
   "pygments_lexer": "ipython3",
   "version": "3.7.4"
  }
 },
 "nbformat": 4,
 "nbformat_minor": 2
}
