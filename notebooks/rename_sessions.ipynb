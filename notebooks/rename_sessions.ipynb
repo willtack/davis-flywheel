{
 "cells": [
  {
   "cell_type": "code",
   "execution_count": 2,
   "metadata": {},
   "outputs": [],
   "source": [
    "import flywheel\n",
    "\n",
    "# Create client\n",
    "fw = flywheel.Client()\n",
    "\n",
    "# define important containers/files\n",
    "project = fw.lookup('davis/presurgicalEpilepsy')"
   ]
  },
  {
   "cell_type": "code",
   "execution_count": 4,
   "metadata": {},
   "outputs": [],
   "source": [
    "for ses in project.sessions():\n",
    "    if 'presurgery' in ses.label:\n",
    "        ses.update(label='preop3T')\n",
    "    elif 'followup' in ses.label:\n",
    "        ses.update(label='followup3T')"
   ]
  },
  {
   "cell_type": "code",
   "execution_count": 3,
   "metadata": {},
   "outputs": [
    {
     "data": {
      "text/plain": [
       "{'modified': 1}"
      ]
     },
     "execution_count": 3,
     "metadata": {},
     "output_type": "execute_result"
    }
   ],
   "source": [
    "# ses = fw.get('5f1634058a33e047e4d34d24')\n",
    "# ses.update(label='preop3T')"
   ]
  },
  {
   "cell_type": "code",
   "execution_count": null,
   "metadata": {},
   "outputs": [],
   "source": []
  }
 ],
 "metadata": {
  "kernelspec": {
   "display_name": "Python 3",
   "language": "python",
   "name": "python3"
  },
  "language_info": {
   "codemirror_mode": {
    "name": "ipython",
    "version": 3
   },
   "file_extension": ".py",
   "mimetype": "text/x-python",
   "name": "python",
   "nbconvert_exporter": "python",
   "pygments_lexer": "ipython3",
   "version": "3.7.3"
  }
 },
 "nbformat": 4,
 "nbformat_minor": 2
}
