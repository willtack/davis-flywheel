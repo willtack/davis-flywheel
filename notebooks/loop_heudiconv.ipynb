{
 "cells": [
  {
   "cell_type": "code",
   "execution_count": 23,
   "metadata": {},
   "outputs": [],
   "source": [
    "import flywheel\n",
    "import datetime\n",
    "\n",
    "# Create client\n",
    "fw = flywheel.Client()\n",
    "\n",
    "# define important containers/files\n",
    "gear = fw.lookup('gears/fw-heudiconv/0.2.12_0.3.1')\n",
    "project = fw.lookup('davis/presurgicalEpilepsy')\n",
    "heuristic = project.get_file('multi-task_fmri3.py')\n",
    "\n",
    "# set date for label\n",
    "x = datetime.datetime.now()\n",
    "date_str = '%s-%s-%s' % (x.year, x.month, x.day)\n"
   ]
  },
  {
   "cell_type": "code",
   "execution_count": 24,
   "metadata": {},
   "outputs": [],
   "source": [
    "# set inputs and config for gear\n",
    "inputs = {'heuristic': heuristic}\n",
    "config = {'action': 'Curate', 'do_whole_project': True, 'dry_run': False, 'extended_bids': True}\n",
    "\n",
    "analysis_id = gear.run(analysis_label='fw-heudiconv_' + date_str + '_WT CURATE 3.1', config=config, inputs=inputs, destination=project)\n"
   ]
  },
  {
   "cell_type": "code",
   "execution_count": 21,
   "metadata": {},
   "outputs": [],
   "source": [
    "# set inputs and config for gear\n",
    "inputs = {'heuristic': heuristic}\n",
    "config = {'action': 'Curate', 'do_whole_project': False, 'dry_run': False, 'extended_bids': True}\n",
    "ses = fw.get('5f1634058a33e047e4d34d28')\n",
    "#analysis_id = gear.run(analysis_label='fw-heudiconv_' + date_str + '_WT CURATE 3.1', config=config, inputs=inputs, destination=ses)\n"
   ]
  },
  {
   "cell_type": "code",
   "execution_count": null,
   "metadata": {},
   "outputs": [],
   "source": []
  }
 ],
 "metadata": {
  "kernelspec": {
   "display_name": "Python 3",
   "language": "python",
   "name": "python3"
  },
  "language_info": {
   "codemirror_mode": {
    "name": "ipython",
    "version": 3
   },
   "file_extension": ".py",
   "mimetype": "text/x-python",
   "name": "python",
   "nbconvert_exporter": "python",
   "pygments_lexer": "ipython3",
   "version": "3.7.3"
  }
 },
 "nbformat": 4,
 "nbformat_minor": 2
}
