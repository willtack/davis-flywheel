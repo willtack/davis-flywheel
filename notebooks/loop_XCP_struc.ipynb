{
 "cells": [
  {
   "cell_type": "code",
   "execution_count": 1,
   "metadata": {},
   "outputs": [],
   "source": [
    "import flywheel\n",
    "import datetime\n",
    "\n",
    "# Create client\n",
    "fw = flywheel.Client()\n",
    "\n",
    "# define containers & files\n",
    "gear = fw.lookup('gears/xcpengine-fw')\n",
    "project = fw.lookup('davis/presurgicalEpilepsy')\n",
    "design_file = project.get_file('anat-minimal.dsn')\n",
    "\n",
    "# set date for label\n",
    "x = datetime.datetime.now()\n",
    "date_str = '%s-%s-%s %s:%s' % (x.month, x.day, x.year, x.hour, x.minute)"
   ]
  },
  {
   "cell_type": "code",
   "execution_count": 2,
   "metadata": {},
   "outputs": [],
   "source": [
    "# create subject list\n",
    "fin = 'controls.txt'\n",
    "sid_list = [line.rstrip('\\n').split()[0] for line in open(fin)]\n"
   ]
  },
  {
   "cell_type": "code",
   "execution_count": 13,
   "metadata": {},
   "outputs": [],
   "source": [
    "sid_list = ['C1','C2','C3','C5','C8','C10']"
   ]
  },
  {
   "cell_type": "code",
   "execution_count": 15,
   "metadata": {},
   "outputs": [
    {
     "name": "stdout",
     "output_type": "stream",
     "text": [
      "Running analysis for subject C1\n",
      "not done yet C1\n",
      "Running analysis for subject C2\n",
      "not done yet C2\n",
      "Running analysis for subject C3\n",
      "not done yet C3\n",
      "Running analysis for subject C5\n",
      "not done yet C5\n",
      "Running analysis for subject C8\n",
      "not done yet C8\n",
      "Running analysis for subject C10\n"
     ]
    }
   ],
   "source": [
    "for sub in sid_list:\n",
    "    ses = fw.lookup('davis/presurgicalEpilepsy/%s/ses-01' % (sub))\n",
    "    print('Running analysis for subject %s' % (fw.get(ses.parents['subject']).label))\n",
    "    \n",
    "    # get T1\n",
    "    t1 = None\n",
    "    asl_img = None\n",
    "    for acq in ses.acquisitions():\n",
    "        if 'T1w' in acq.label:\n",
    "            t1_container=fw.get(acq.id)\n",
    "            for f in t1_container.files:\n",
    "                if '.nii.gz' in f.name:\n",
    "                    t1=f\n",
    "        if 'M0' not in acq.label and acq.files[0].classification['Measurement'] == ['Perfusion'] :\n",
    "            asl_container=fw.get(acq.id)\n",
    "            for f in asl_container.files:\n",
    "                if '.nii.gz' in f.name:\n",
    "                    asl_img=f\n",
    "                    \n",
    "    # set inputs and config for gear\n",
    "    if t1 is not None:\n",
    "        inputs = {'designfile': design_file, 'img': t1 }\n",
    "        config = {'analysis_type': 'struc'}\n",
    "    \n",
    "    alreadydone = False\n",
    "    for analysis in ses.analyses:\n",
    "        if analysis.files and 'anat-minimal' in analysis.label:\n",
    "            print(analysis.label)\n",
    "            alreadydone = True\n",
    "            print(\"already done \" + sub)\n",
    "            \n",
    "    #run\n",
    "    if not alreadydone and asl_img is not None:\n",
    "        print(\"not done yet \" + sub)\n",
    "        analysis_id = gear.run(analysis_label='WT_xcp struct ' + date_str, config=config, inputs=inputs, destination=ses)"
   ]
  },
  {
   "cell_type": "code",
   "execution_count": null,
   "metadata": {},
   "outputs": [],
   "source": []
  }
 ],
 "metadata": {
  "kernelspec": {
   "display_name": "Python 3",
   "language": "python",
   "name": "python3"
  },
  "language_info": {
   "codemirror_mode": {
    "name": "ipython",
    "version": 3
   },
   "file_extension": ".py",
   "mimetype": "text/x-python",
   "name": "python",
   "nbconvert_exporter": "python",
   "pygments_lexer": "ipython3",
   "version": "3.7.4"
  }
 },
 "nbformat": 4,
 "nbformat_minor": 2
}
