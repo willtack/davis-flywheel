{
 "cells": [
  {
   "cell_type": "code",
   "execution_count": 1,
   "metadata": {},
   "outputs": [],
   "source": [
    "import flywheel\n",
    "import datetime\n",
    "\n",
    "# Create client\n",
    "fw = flywheel.Client()\n",
    "\n",
    "# define containers & files\n",
    "gear = fw.lookup('gears/xcpengine-fw')\n",
    "project = fw.lookup('davis/presurgicalEpilepsy')\n",
    "design_file = project.get_file('fc-36p_spkreg_sb.dsn')\n",
    "\n",
    "# set date for label\n",
    "x = datetime.datetime.now()\n",
    "date_str = '%s-%s-%s %s:%s' % (x.month, x.day, x.year, x.hour, x.minute)"
   ]
  },
  {
   "cell_type": "code",
   "execution_count": 2,
   "metadata": {},
   "outputs": [],
   "source": [
    "# create subject list\n",
    "fin = 'controls.txt'\n",
    "sid_list = [line.rstrip('\\n').split()[0] for line in open(fin)]"
   ]
  },
  {
   "cell_type": "code",
   "execution_count": 3,
   "metadata": {},
   "outputs": [
    {
     "data": {
      "text/plain": [
       "['C1',\n",
       " 'C2',\n",
       " 'C3',\n",
       " 'C4',\n",
       " 'C5',\n",
       " 'C6',\n",
       " 'C7',\n",
       " 'C8',\n",
       " 'C9',\n",
       " 'C10',\n",
       " 'C11',\n",
       " 'C12',\n",
       " 'C13',\n",
       " 'C14',\n",
       " 'C15']"
      ]
     },
     "execution_count": 3,
     "metadata": {},
     "output_type": "execute_result"
    }
   ],
   "source": [
    "sid_list"
   ]
  },
  {
   "cell_type": "code",
   "execution_count": 2,
   "metadata": {},
   "outputs": [],
   "source": [
    "sid_list=['P34','P52','P53', 'P60']"
   ]
  },
  {
   "cell_type": "code",
   "execution_count": 3,
   "metadata": {},
   "outputs": [
    {
     "name": "stdout",
     "output_type": "stream",
     "text": [
      "Running analysis for subject P34\n",
      "SB_fmriprep 8-13-2019 15:21\n",
      "fmriprep_sub-P34_5d530da7c3758a0047ddd5a7.zip\n",
      "Running analysis for subject P52\n",
      "SB_fmriprep 08-20-2019 15:34:33\n",
      "fmriprep_sub-P52_5d5c4b5dc3758a0045defb02.zip\n",
      "Running analysis for subject P53\n",
      "SB_fmriprep 8-13-2019 15:21\n",
      "fmriprep_sub-P53_5d530da5c3758a0047ddd59b.zip\n",
      "Running analysis for subject P60\n",
      "SB_fmriprep 8-13-2019 15:21\n",
      "fmriprep_sub-P60_5d530da5c3758a006ede818c.zip\n"
     ]
    }
   ],
   "source": [
    "for sub in sid_list:\n",
    "    ses = fw.lookup('davis/presurgicalEpilepsy/%s/ses-01' % (sub))\n",
    "    print('Running analysis for subject %s' % (fw.get(ses.parents['subject']).label))\n",
    "    # get fmriprep analysis\n",
    "    for a in ses.analyses:\n",
    "        if a.files and 'SB_fmriprep' in a.label:\n",
    "            print(a.label)\n",
    "            fprep_output = [f for f in a.files if 'fmriprep' in f.name]\n",
    "            print(fprep_output[0].name)\n",
    "            \n",
    "    # set inputs and config for gear\n",
    "    inputs = {'designfile': design_file, 'fmriprepdir': fprep_output[0]}\n",
    "    config = {'analysis_type': 'fc'}\n",
    "    \n",
    "    analysis_id = gear.run(analysis_label='WT_xcp ' + date_str, config=config, inputs=inputs, destination=ses)"
   ]
  },
  {
   "cell_type": "code",
   "execution_count": 6,
   "metadata": {},
   "outputs": [
    {
     "data": {
      "text/plain": [
       "[{'classification': {},\n",
       "  'created': datetime.datetime(2019, 10, 25, 4, 2, 41, 65000, tzinfo=tzutc()),\n",
       "  'hash': 'v0-sha384-e36e6c8405a28147130c2f7f1289df8d45ea2589069a9afa330aa4505a5c5a25f88dd0ecce950476c1893b8a33db1ccc',\n",
       "  'id': 'a59e2781-5425-42d6-bccb-4a4b8900dd21',\n",
       "  'info': {},\n",
       "  'info_exists': None,\n",
       "  'mimetype': 'application/zip',\n",
       "  'modality': None,\n",
       "  'modified': datetime.datetime(2019, 10, 25, 4, 2, 41, 65000, tzinfo=tzutc()),\n",
       "  'name': 'fmriprep_sub-C14_5db1d20f6cbeb000b48771c9.zip',\n",
       "  'origin': {'id': '5db1d20f6cbeb000b48771ca',\n",
       "             'method': None,\n",
       "             'name': None,\n",
       "             'type': 'job',\n",
       "             'via': None},\n",
       "  'replaced': None,\n",
       "  'size': 3562724354,\n",
       "  'tags': [],\n",
       "  'type': 'archive',\n",
       "  'zip_member_count': None}]"
      ]
     },
     "execution_count": 6,
     "metadata": {},
     "output_type": "execute_result"
    }
   ],
   "source": [
    "fprep_output"
   ]
  },
  {
   "cell_type": "code",
   "execution_count": null,
   "metadata": {},
   "outputs": [],
   "source": []
  }
 ],
 "metadata": {
  "kernelspec": {
   "display_name": "Python 3",
   "language": "python",
   "name": "python3"
  },
  "language_info": {
   "codemirror_mode": {
    "name": "ipython",
    "version": 3
   },
   "file_extension": ".py",
   "mimetype": "text/x-python",
   "name": "python",
   "nbconvert_exporter": "python",
   "pygments_lexer": "ipython3",
   "version": "3.7.4"
  }
 },
 "nbformat": 4,
 "nbformat_minor": 2
}
