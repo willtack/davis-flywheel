{
 "cells": [
  {
   "cell_type": "code",
   "execution_count": 65,
   "metadata": {},
   "outputs": [],
   "source": [
    "import flywheel\n",
    "import datetime\n",
    "\n",
    "# Create client\n",
    "fw = flywheel.Client()\n",
    "\n",
    "# define containers & files\n",
    "gear = fw.lookup('gears/xcpengine-fw')\n",
    "project = fw.lookup('davis/presurgicalEpilepsy')\n",
    "design_file = project.get_file('anat-minimal.dsn')\n",
    "\n",
    "# set date for label\n",
    "x = datetime.datetime.now()\n",
    "date_str = '%s/%s/%s %s:%s' % (x.month, x.day, x.year, x.hour, x.minute)"
   ]
  },
  {
   "cell_type": "code",
   "execution_count": 66,
   "metadata": {},
   "outputs": [],
   "source": [
    "# create subject list\n",
    "fin = '../MTLperf/mtle_subjects.txt'\n",
    "sid_list = [line.rstrip('\\n').split()[0] for line in open(fin)]\n"
   ]
  },
  {
   "cell_type": "code",
   "execution_count": 69,
   "metadata": {},
   "outputs": [
    {
     "name": "stdout",
     "output_type": "stream",
     "text": [
      "Running analysis for subject P20\n",
      "Running analysis for subject P24\n",
      "Running analysis for subject P26\n",
      "Running analysis for subject P27\n",
      "Running analysis for subject P28\n",
      "Running analysis for subject P30\n",
      "Running analysis for subject P33\n",
      "Running analysis for subject P34\n",
      "Running analysis for subject P35\n",
      "Running analysis for subject P37\n",
      "Running analysis for subject P38\n",
      "Running analysis for subject P39\n",
      "Running analysis for subject P40\n",
      "Running analysis for subject P42\n",
      "Running analysis for subject P43\n",
      "Running analysis for subject P46\n",
      "Running analysis for subject P47\n",
      "Running analysis for subject P51\n",
      "Running analysis for subject P52\n",
      "Running analysis for subject P56\n",
      "Running analysis for subject P58\n",
      "Running analysis for subject P61\n"
     ]
    }
   ],
   "source": [
    "for sub in sid_list:\n",
    "    ses = fw.lookup('davis/presurgicalEpilepsy/%s/ses-01' % (sub))\n",
    "    print('Running analysis for subject %s' % (fw.get(ses.parents['subject']).label))\n",
    "    \n",
    "    # get T1\n",
    "    for a in ses.acquisitions():\n",
    "        if 'T1w' in a.label:\n",
    "            t1_container=fw.get(a.id)\n",
    "            for f in t1_container.files:\n",
    "                if '.nii.gz' in f.name:\n",
    "                    t1=f\n",
    "    # set inputs and config for gear\n",
    "    inputs = {'designfile': design_file, 'img': t1 }\n",
    "    config = {'analysis_type': 'struc'}\n",
    "    \n",
    "    #run\n",
    "    analysis_id = gear.run(analysis_label='minimal struct ' + date_str + ' WT', config=config, inputs=inputs, destination=ses)"
   ]
  },
  {
   "cell_type": "code",
   "execution_count": null,
   "metadata": {},
   "outputs": [],
   "source": []
  }
 ],
 "metadata": {
  "kernelspec": {
   "display_name": "Python 3",
   "language": "python",
   "name": "python3"
  },
  "language_info": {
   "codemirror_mode": {
    "name": "ipython",
    "version": 3
   },
   "file_extension": ".py",
   "mimetype": "text/x-python",
   "name": "python",
   "nbconvert_exporter": "python",
   "pygments_lexer": "ipython3",
   "version": "3.7.3"
  }
 },
 "nbformat": 4,
 "nbformat_minor": 2
}
