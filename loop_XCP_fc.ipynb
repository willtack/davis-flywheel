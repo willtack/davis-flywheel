{
 "cells": [
  {
   "cell_type": "code",
   "execution_count": 1,
   "metadata": {},
   "outputs": [],
   "source": [
    "import flywheel\n",
    "import datetime\n",
    "\n",
    "# Create client\n",
    "fw = flywheel.Client()\n",
    "\n",
    "# define containers & files\n",
    "gear = fw.lookup('gears/xcpengine-fw')\n",
    "project = fw.lookup('davis/presurgicalEpilepsy')\n",
    "design_file = project.get_file('fc-36p_spkreg_sb.dsn')\n",
    "\n",
    "# set date for label\n",
    "x = datetime.datetime.now()\n",
    "date_str = '%s-%s-%s %s:%s' % (x.month, x.day, x.year, x.hour, x.minute)"
   ]
  },
  {
   "cell_type": "code",
   "execution_count": 2,
   "metadata": {},
   "outputs": [],
   "source": [
    "# create subject list\n",
    "fin = 'controls.txt'\n",
    "sid_list = [line.rstrip('\\n').split()[0] for line in open(fin)]"
   ]
  },
  {
   "cell_type": "code",
   "execution_count": 3,
   "metadata": {},
   "outputs": [
    {
     "data": {
      "text/plain": [
       "['C1',\n",
       " 'C2',\n",
       " 'C3',\n",
       " 'C4',\n",
       " 'C5',\n",
       " 'C6',\n",
       " 'C7',\n",
       " 'C8',\n",
       " 'C9',\n",
       " 'C10',\n",
       " 'C11',\n",
       " 'C12',\n",
       " 'C13',\n",
       " 'C14',\n",
       " 'C15']"
      ]
     },
     "execution_count": 3,
     "metadata": {},
     "output_type": "execute_result"
    }
   ],
   "source": [
    "sid_list"
   ]
  },
  {
   "cell_type": "code",
   "execution_count": 12,
   "metadata": {},
   "outputs": [
    {
     "name": "stdout",
     "output_type": "stream",
     "text": [
      "Running analysis for subject C1\n",
      "WT_fmriprep 10-24-2019 12:12\n",
      "fmriprep_sub-C1_5db1d1806cbeb000787d9e8f.zip\n",
      "Running analysis for subject C2\n",
      "WT_fmriprep 10-24-2019 12:12\n",
      "fmriprep_sub-C2_5db1d1806cbeb0005973e5bd.zip\n",
      "Running analysis for subject C3\n",
      "WT_fmriprep 10-24-2019 12:12\n",
      "fmriprep_sub-C3_5db1d1806cbeb0005592325a.zip\n",
      "Running analysis for subject C4\n",
      "WT_fmriprep 10-24-2019 12:12\n",
      "fmriprep_sub-C4_5db1d1806cbeb000b4876f7b.zip\n",
      "Running analysis for subject C5\n",
      "WT_fmriprep 10-24-2019 12:12\n",
      "fmriprep_sub-C5_5db1d1816cbeb0005592325c.zip\n",
      "Running analysis for subject C6\n",
      "WT_fmriprep 10-24-2019 12:12\n",
      "fmriprep_sub-C6_5db1d1816cbeb00055923260.zip\n",
      "Running analysis for subject C7\n",
      "WT_fmriprep 10-24-2019 12:12\n",
      "fmriprep_sub-C7_5db1d1816cbeb00055923264.zip\n",
      "Running analysis for subject C8\n",
      "WT_fmriprep 10-24-2019 12:12\n",
      "fmriprep_sub-C8_5db1d1816cbeb00076778da8.zip\n",
      "Running analysis for subject C9\n",
      "WT_fmriprep 10-24-2019 12:12\n",
      "fmriprep_sub-C9_5db1d1826cbeb000b4876f80.zip\n",
      "Running analysis for subject C10\n",
      "WT_fmriprep 10-24-2019 12:12\n",
      "fmriprep_sub-C10_5db1d1826cbeb0005b75620d.zip\n",
      "Running analysis for subject C11\n",
      "Running analysis for subject C12\n",
      "WT_fmriprep 10-24-2019 12:12\n",
      "fmriprep_sub-C12_5db1d20f6cbeb000787d9fbc.zip\n",
      "Running analysis for subject C13\n",
      "WT_fmriprep 10-24-2019 12:12\n",
      "fmriprep_sub-C13_5db1d20f6cbeb00055923627.zip\n",
      "Running analysis for subject C14\n",
      "WT_fmriprep 10-24-2019 12:12\n",
      "fmriprep_sub-C14_5db1d20f6cbeb000b48771c9.zip\n",
      "Running analysis for subject C15\n",
      "WT_fmriprep 10-24-2019 12:35\n",
      "fmriprep_sub-C15_5db1d2e36cbeb00055923990.zip\n"
     ]
    }
   ],
   "source": [
    "for sub in sid_list:\n",
    "    ses = fw.lookup('davis/presurgicalEpilepsy/%s/ses-01' % (sub))\n",
    "    print('Running analysis for subject %s' % (fw.get(ses.parents['subject']).label))\n",
    "    # get fmriprep analysis\n",
    "    for a in ses.analyses:\n",
    "        if a.files and 'WT_fmriprep' in a.label:\n",
    "            print(a.label)\n",
    "            fprep_output = [f for f in a.files if 'fmriprep' in f.name]\n",
    "            print(fprep_output[0].name)\n",
    "            \n",
    "    # set inputs and config for gear\n",
    "    inputs = {'designfile': design_file, 'fmriprepdir': fprep_output[0]}\n",
    "    config = {'analysis_type': 'fc'}\n",
    "    \n",
    "    analysis_id = gear.run(analysis_label='WT_xcp ' + date_str, config=config, inputs=inputs, destination=ses)"
   ]
  },
  {
   "cell_type": "code",
   "execution_count": 11,
   "metadata": {},
   "outputs": [
    {
     "data": {
      "text/plain": [
       "[{'classification': {},\n",
       "  'created': datetime.datetime(2019, 10, 25, 1, 36, 31, 330000, tzinfo=tzutc()),\n",
       "  'hash': 'v0-sha384-1408778851b4e755d597f2a2e96df6cc814798a7beffc356ca9ed50d6d149c25bfdb8efc41f3ca1c3f1b58a37ab82bda',\n",
       "  'id': 'ca1fe064-5610-432b-a4a2-24335b60e5fc',\n",
       "  'info': {},\n",
       "  'info_exists': None,\n",
       "  'mimetype': 'application/zip',\n",
       "  'modality': None,\n",
       "  'modified': datetime.datetime(2019, 10, 25, 1, 36, 31, 330000, tzinfo=tzutc()),\n",
       "  'name': 'fmriprep_sub-C1_5db1d1806cbeb000787d9e8f.zip',\n",
       "  'origin': {'id': '5db1d1806cbeb000787d9e90',\n",
       "             'method': None,\n",
       "             'name': None,\n",
       "             'type': 'job',\n",
       "             'via': None},\n",
       "  'replaced': None,\n",
       "  'size': 1634985045,\n",
       "  'tags': [],\n",
       "  'type': 'archive',\n",
       "  'zip_member_count': None}]"
      ]
     },
     "execution_count": 11,
     "metadata": {},
     "output_type": "execute_result"
    }
   ],
   "source": [
    "fprep_output"
   ]
  },
  {
   "cell_type": "code",
   "execution_count": null,
   "metadata": {},
   "outputs": [],
   "source": []
  }
 ],
 "metadata": {
  "kernelspec": {
   "display_name": "Python 3",
   "language": "python",
   "name": "python3"
  },
  "language_info": {
   "codemirror_mode": {
    "name": "ipython",
    "version": 3
   },
   "file_extension": ".py",
   "mimetype": "text/x-python",
   "name": "python",
   "nbconvert_exporter": "python",
   "pygments_lexer": "ipython3",
   "version": "3.7.3"
  }
 },
 "nbformat": 4,
 "nbformat_minor": 2
}
