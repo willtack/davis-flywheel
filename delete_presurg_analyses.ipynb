{
 "cells": [
  {
   "cell_type": "code",
   "execution_count": 1,
   "metadata": {},
   "outputs": [],
   "source": [
    "import flywheel\n",
    "fw = flywheel.Client()"
   ]
  },
  {
   "cell_type": "code",
   "execution_count": 2,
   "metadata": {},
   "outputs": [],
   "source": [
    "project = fw.lookup('davis/presurgicalEpilepsy')"
   ]
  },
  {
   "cell_type": "code",
   "execution_count": 4,
   "metadata": {},
   "outputs": [
    {
     "name": "stdout",
     "output_type": "stream",
     "text": [
      "Deleting analysis lingua-map (2) for subject P68\n",
      "Deleting analysis lingua-map (2) for subject P67\n",
      "Deleting analysis lingua-map (2) for subject P66\n",
      "Deleting analysis lingua-map (2) for subject P65\n",
      "Deleting analysis lingua-map (2) for subject P63\n",
      "Deleting analysis lingua-map (2) for subject P62\n",
      "Deleting analysis lingua-map (2) for subject P61\n",
      "Deleting analysis lingua-map (2) for subject P60\n",
      "Deleting analysis lingua-map (2) for subject P58\n",
      "Deleting analysis lingua-map (2) for subject P55\n",
      "Deleting analysis lingua-map (2) for subject P54\n",
      "Deleting analysis lingua-map (2) for subject P53\n",
      "Deleting analysis lingua-map (2) for subject P52\n",
      "Deleting analysis lingua-map (2) for subject P51\n",
      "Deleting analysis lingua-map (2) for subject P50\n",
      "Deleting analysis lingua-map (2) for subject P47\n",
      "Deleting analysis lingua-map (2) for subject P45\n",
      "Deleting analysis lingua-map (2) for subject P44\n",
      "Deleting analysis lingua-map (2) for subject P44\n",
      "Deleting analysis lingua-map (2) for subject P43\n",
      "Deleting analysis lingua-map (2) for subject P41\n",
      "Deleting analysis lingua-map (2) for subject P39\n",
      "Deleting analysis lingua-map (2) for subject P38\n",
      "Deleting analysis lingua-map (2) for subject P37\n",
      "Deleting analysis lingua-map (2) for subject P35\n",
      "Deleting analysis lingua-map (2) for subject P34\n",
      "Deleting analysis lingua-map (2) for subject P30\n",
      "Deleting analysis lingua-map (2) for subject P29\n",
      "Deleting analysis lingua-map (2) for subject P28\n",
      "Deleting analysis lingua-map (2) for subject P69\n",
      "Deleting analysis lingua-map (2) for subject P73\n",
      "Deleting analysis lingua-map (2) for subject P74\n",
      "Deleting analysis lingua-map (2) for subject P75\n",
      "Deleting analysis lingua-map (2) for subject P76\n",
      "Deleting analysis lingua-map (2) for subject P77\n",
      "Deleting analysis lingua-map (2) for subject P78\n",
      "Deleting analysis lingua-map (2) for subject P36\n",
      "Deleting analysis lingua-map (2) for subject P72\n",
      "Deleting analysis lingua-map (2) for subject P70\n",
      "Deleting analysis lingua-map (2) for subject P71\n",
      "Deleting analysis lingua-map (2) for subject P64\n",
      "Deleting analysis lingua-map (2) for subject P64\n",
      "Deleting analysis lingua-map (2) for subject P59\n",
      "Deleting analysis lingua-map (2) for subject P57\n",
      "Deleting analysis lingua-map (2) for subject P56\n",
      "Deleting analysis lingua-map (2) for subject P49\n",
      "Deleting analysis lingua-map (2) for subject P48\n",
      "Deleting analysis lingua-map (2) for subject P46\n",
      "Deleting analysis lingua-map (2) for subject P42\n",
      "Deleting analysis lingua-map (2) for subject P40\n",
      "Deleting analysis lingua-map (2) for subject P33\n",
      "Deleting analysis lingua-map (2) for subject P33\n",
      "Deleting analysis lingua-map (2) for subject P32\n",
      "Deleting analysis lingua-map (2) for subject P31\n",
      "Deleting analysis lingua-map (2) for subject P31\n",
      "Deleting analysis lingua-map (2) for subject P31\n",
      "Deleting analysis lingua-map (2) for subject P31\n",
      "Deleting analysis lingua-map (2) for subject P79\n",
      "Deleting analysis lingua-map (2) for subject P80\n"
     ]
    }
   ],
   "source": [
    "for session in project.sessions():\n",
    "    ses = fw.get(session.id)\n",
    "    sub = fw.get(ses.parents['subject']).label\n",
    "    for a in ses.analyses:\n",
    "        if \"lingua-map (2)\" in a.label: # and a.job.state=='failed':\n",
    "            print(\"Deleting analysis %s for subject %s\" % (a.label, sub))\n",
    "            fw.delete_session_analysis(ses.id, a.id)"
   ]
  },
  {
   "cell_type": "code",
   "execution_count": null,
   "metadata": {},
   "outputs": [],
   "source": []
  }
 ],
 "metadata": {
  "kernelspec": {
   "display_name": "Python 3",
   "language": "python",
   "name": "python3"
  },
  "language_info": {
   "codemirror_mode": {
    "name": "ipython",
    "version": 3
   },
   "file_extension": ".py",
   "mimetype": "text/x-python",
   "name": "python",
   "nbconvert_exporter": "python",
   "pygments_lexer": "ipython3",
   "version": "3.7.4"
  }
 },
 "nbformat": 4,
 "nbformat_minor": 2
}
