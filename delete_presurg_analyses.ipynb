{
 "cells": [
  {
   "cell_type": "code",
   "execution_count": 1,
   "metadata": {},
   "outputs": [],
   "source": [
    "import flywheel\n",
    "fw = flywheel.Client()"
   ]
  },
  {
   "cell_type": "code",
   "execution_count": 2,
   "metadata": {},
   "outputs": [],
   "source": [
    "project = fw.lookup('davis/presurgicalEpilepsy')"
   ]
  },
  {
   "cell_type": "code",
   "execution_count": 3,
   "metadata": {},
   "outputs": [
    {
     "name": "stdout",
     "output_type": "stream",
     "text": [
      "Deleting analysis lingua-map 11-6-2019 15:43 (2) for subject P53\n",
      "Deleting analysis lingua-map 11-6-2019 15:29 (2) for subject P46\n",
      "Deleting analysis lingua-map 11-6-2019 15:43 (2) for subject P46\n",
      "Deleting analysis lingua-map 11-6-2019 15:29 (2) for subject P33\n",
      "Deleting analysis lingua-map 11-6-2019 15:43 (2) for subject P33\n",
      "Deleting analysis lingua-map 11-6-2019 15:29 (2) for subject P31\n",
      "Deleting analysis lingua-map 11-6-2019 15:43 (2) for subject P31\n"
     ]
    }
   ],
   "source": [
    "for session in project.sessions():\n",
    "    ses = fw.get(session.id)\n",
    "    sub = fw.get(ses.parents['subject']).label\n",
    "    for a in ses.analyses:\n",
    "        if \"lingua-map\" in a.label and a.job.state=='failed':\n",
    "            print(\"Deleting analysis %s for subject %s\" % (a.label, sub))\n",
    "            #fw.delete_session_analysis(ses.id, a.id)"
   ]
  },
  {
   "cell_type": "code",
   "execution_count": null,
   "metadata": {},
   "outputs": [],
   "source": []
  }
 ],
 "metadata": {
  "kernelspec": {
   "display_name": "Python 3",
   "language": "python",
   "name": "python3"
  },
  "language_info": {
   "codemirror_mode": {
    "name": "ipython",
    "version": 3
   },
   "file_extension": ".py",
   "mimetype": "text/x-python",
   "name": "python",
   "nbconvert_exporter": "python",
   "pygments_lexer": "ipython3",
   "version": "3.7.3"
  }
 },
 "nbformat": 4,
 "nbformat_minor": 2
}
